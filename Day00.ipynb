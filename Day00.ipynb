{
 "cells": [
  {
   "cell_type": "markdown",
   "metadata": {
    "slideshow": {
     "slide_type": "-"
    }
   },
   "source": [
    "\n",
    "<center> <h1>DAY00 : Text Display, Instruction Suite</h1> </center>\n",
    "\n",
    "### Table of Contents\n",
    "1. [Hello world !](#Hello_world)\n",
    "2. [Presentation](#Presentation)\n",
    "3. [Mountain map](#Mountain_map)\n",
    "4. [In the thicket](#In_the_thicket)\n",
    "5. [Stack of cylinders](#Stack_of_cylinders)\n",
    "6. [Secret recipe](#Secret_recipe)\n"
   ]
  },
  {
   "cell_type": "markdown",
   "metadata": {},
   "source": [
    "\n",
    "### A journey fraught with pitfalls\n",
    "\n",
    "#### History\n",
    "\n",
    "In the year 2132, an inhabited planet was discovered on the borders of the galaxy, and called Algorea. Ten years later, you are sent on a mission around this planet in order to establish a first contact with its inhabitants. Unfortunately, comet Hal hit your ship as you approached Algorea. You have been forced to eject urgently in a life capsule. You land on the planet with the only luggage a maintenance robot.\n",
    "\n",
    "Isolated on this distant globe, you will meet its inhabitants, discover their customs and create links to begin a peaceful relationship until the next mission comes to recover. You will take advantage of the capabilities of your robot! It is accompanied by a manual, which will be very useful in your journey. This robot is able to print text, display characters on a screen, move and move objects.\n",
    "\n",
    "You notice that the manual proposes to control the robot using several languages, by writing code on a keyboard. Once your choice is made, you head to a site that seems to harbor life.\n",
    "\n",
    "## Goal \n",
    "\n",
    "You will display text and perform successive operations.\n"
   ]
  },
  {
   "cell_type": "markdown",
   "metadata": {},
   "source": [
    "<a name=\"Hello_world\"/>\n",
    "\n",
    "## 1 - Hello world !"
   ]
  },
  {
   "cell_type": "markdown",
   "metadata": {},
   "source": [
    "\n",
    "You arrive at the foot of a cliff. There, a group of villagers frantically tries to open a majestic door in the wall. These people from a nearby village tell you that terrible things will happen if the door is not opened before the \"Great Event\" that will take place soon. Only their boss knows the combination that would open the door, but he's gone!\n",
    "\n",
    "The villagers are convinced that their leader was captured by the Great Wizard who lives on the top of the mountain. They are nevertheless terrified to go looking for him, because this mountain is cursed. You offer them to go yourself, accompanied by your robot.\n",
    "\n",
    "However, the villagers look at your mate strangely. To reassure them, you think it would be nice if your robot displays a few words on its screen. The tradition in the village is that androids come with the text \"Hello world! \".\n",
    "\n",
    "#### 🎯 What your program should do:\n",
    "Write a program that allows the robot to accurately display the text :\n",
    "`\"Hello world!\"`.\n",
    "\n",
    "#### ⚠️ Warning: \n",
    "if there is too much space, if there is a capital letter instead of a lowercase, or if there is any other difference with the text above, villagers will feel that something bell with your robot and will not trust him.\n",
    "\n",
    "#### 📗 Show text\n",
    "\n",
    "In Python, to display text, one writes print then, in parentheses, the text to display, in quotation marks. So, to display the word \"Hello\", we will write the following code:\n",
    "`\n",
    "print(\"Hello\")\n",
    "`"
   ]
  },
  {
   "cell_type": "code",
   "execution_count": 1,
   "metadata": {},
   "outputs": [
    {
     "name": "stdout",
     "output_type": "stream",
     "text": [
      "Hello World!\n"
     ]
    }
   ],
   "source": [
    "# Write your print here ⬇️\n"
   ]
  },
  {
   "cell_type": "markdown",
   "metadata": {
    "collapsed": true
   },
   "source": [
    "#### 📗 Representation of the output of a program\n",
    "\n",
    "Subsequently, the result of a program will be displayed below the cell reserved for this program. For example, for the program that displays the text \"Hello\":\n",
    "\n",
    "`\n",
    "print(\"Hello\")\n",
    "`\n",
    "\n",
    "`\n",
    "Hello\n",
    "`\n",
    "\n",
    "This result is called the \"exit\" of the program: this is what emerges from its execution."
   ]
  },
  {
   "cell_type": "markdown",
   "metadata": {},
   "source": [
    "<a name=\"Presentation\"/>\n",
    "\n",
    "## 2 - Presentation"
   ]
  },
  {
   "cell_type": "markdown",
   "metadata": {},
   "source": [
    "\n",
    "One of the villagers, Camthalion, is very interested in your robot. He watched you for a long time as you wrote your program, and wished to write his own. The robot however displays the lines in the wrong order. Can you fix it ?\n",
    "\n",
    "#### 🎯 What you need to do:\n",
    "\n",
    "**Camthalion wrote the program below:**\n",
    "\n",
    "`\n",
    "print(\"My motto is 'Speak little but speak well'.\")\n",
    "print(\"My name is Camthalion\")\n",
    "print(\"Hello !\")\n",
    "`\n",
    "\n",
    "**and he gets out:**\n",
    "\n",
    "`\n",
    "My motto is 'Speak little but speak well'.\n",
    "My name is Camthalion\n",
    "Hello !\n",
    "`\n",
    "\n",
    "**He wants his program to display instead:**\n",
    "\n",
    "`\n",
    "Hello !\n",
    "My name is Camthalion\n",
    "My motto is 'Speak little but speak well'.\n",
    "`\n",
    "\n",
    "**He asks you to make the necessary changes.**"
   ]
  },
  {
   "cell_type": "code",
   "execution_count": 14,
   "metadata": {
    "collapsed": true
   },
   "outputs": [],
   "source": [
    "# Write your program here ⬇️\n"
   ]
  },
  {
   "cell_type": "markdown",
   "metadata": {},
   "source": [
    "#### 📗 Show multiple lines of text\n",
    "**To display multiple lines of text, you must write successive display instructions (one per line):**\n",
    "\n",
    "`\n",
    "print (\"Hello !\")\n",
    "print (\"How are you ?\")\n",
    "`\n",
    "\n",
    "`\n",
    "Hello !\n",
    "How are you ?\n",
    "`"
   ]
  },
  {
   "cell_type": "markdown",
   "metadata": {},
   "source": [
    "#### 📗 Show text: possible errors\n",
    "\n",
    "When writing a computer program, you have to be very rigorous because a simple misplaced character can disrupt the computer of the robot. If your code format is not good, it will not go any further and will just tell you that you made a mistake.\n",
    "\n",
    "When that happens, **one must first try to understand the error message** and then **carefully re-read the code area concerned,** in particular to ensure that there is no missing symbol such as a parenthesis or quotation mark.\n",
    "\n",
    "Here are some examples of error messages.\n",
    "\n",
    "#### Be careful with parentheses !\n",
    "\n",
    "If we forget a parenthesis, it produces one of the following errors:\n",
    "\n",
    "`\n",
    "print(\"Hello\"\n",
    "`\n",
    "\n",
    "<span style=\"color:red\">SyntaxError:</span> unexpected EOF while parsing\n",
    "\n",
    "#### Be careful with quotation marks !\n",
    "If you do not put the quotation marks correctly, it produces one of the following errors:\n",
    "\n",
    "`\n",
    "print(\"Hello)\n",
    "`\n",
    "\n",
    "<span style=\"color:red\">SyntaxError:</span> EOL while scanning string literal\n",
    "\n",
    "`\n",
    "print(Hello)\n",
    "`\n",
    "\n",
    "<span style=\"color:red\">NameError:</span> name 'Hello' is not defined\n",
    "\n",
    "`\n",
    "print(Hello everyone)\n",
    "`\n",
    "\n",
    "<span style=\"color:red\">SyntaxError:</span> invalid syntax\n",
    "\n",
    "#### Conclusion\n",
    "\n",
    "You have to be precise and forget nothing. If we encounter an error, we will try to check everything. The messages very often describe the exact source of the problem, you have to read them and try to understand their meaning.\n",
    "\n",
    "An error message will also always give you the number of the line that caused the concern. This number is not always accurate: the computer may be disturbed only after your error. You will often have to look before the indicated location."
   ]
  },
  {
   "cell_type": "markdown",
   "metadata": {},
   "source": [
    "<a name=\"Mountain_map\"/>\n",
    "\n",
    "## 3 - Mountain map"
   ]
  },
  {
   "cell_type": "markdown",
   "metadata": {},
   "source": [
    "\n",
    "To help you navigate your way up the mountain, the villagers give you some directions. Rather than memorizing them, you decide to use your robot to print them on a piece of paper.\n",
    "\n",
    "#### 🎯 What your program should do:\n",
    "Write a program that displays exactly the following text:\n",
    "\n",
    "`\n",
    "All right you will climb,\n",
    "The key you will find,\n",
    "Clever you will be,\n",
    "When you wear them,\n",
    "And with the chef you'll come back !\n",
    "`"
   ]
  },
  {
   "cell_type": "code",
   "execution_count": 16,
   "metadata": {
    "collapsed": true
   },
   "outputs": [],
   "source": [
    "# Write your program here ⬇️\n"
   ]
  },
  {
   "cell_type": "markdown",
   "metadata": {},
   "source": [
    "<a name=\"In_the_thicket\"/>\n",
    "\n",
    "## 4 - In the thicket"
   ]
  },
  {
   "cell_type": "markdown",
   "metadata": {},
   "source": [
    "\n",
    "On the narrow path that leads to the mountain, you reach a huge gate. You are here to the village. This one is organized according to the cases with the traps and the bushes, of which you did not provide the plan.\n",
    "\n",
    "You are not up to the plan is not reding the traps of thicket. So you decide to send your robot to find the key for you.\n",
    "\n",
    "#### 🎯 What your program should do:\n",
    "Your program must point your robot in the following grid:\n",
    "\n",
    "![In the thicket](./source_files/images/fourre.png)\n",
    "\n",
    "**The robot** <img src=\"./source_files/images/robot.png\" style=\"margin: 0; vertical-align: bottom;\">\n",
    "\n",
    "**The key** <img src=\"./source_files/images/cle.png\" style=\"margin: 0; vertical-align: bottom;\">\n",
    "\n",
    "**Impassable bushes** <img src=\"./source_files/images/buisson.png\" style=\"margin: 0; vertical-align: bottom;\">\n",
    "\n",
    "**The traps** <img src=\"./source_files/images/piege.png\" style=\"margin: 0; vertical-align: bottom;\">\n",
    "\n",
    "The robot is initially at the entrance of the thicket and must reach the box where the key is located without going through the boxes where are impassable bushes or those containing a trap. You do not need to program the return path.\n"
   ]
  },
  {
   "cell_type": "markdown",
   "metadata": {},
   "source": [
    "#### 📗 Perform movements\n",
    "\n",
    "So that you can manipulate the robot in your programming language, we have created a module called \"robot\".\n",
    "\n",
    "When a subject requires the robot to perform movements, the statement will contain a **\"Commands for this exercise\"** frame describing the instructions to be used.\n",
    "\n",
    "To get these instructions in Python, you need to include the following line at the top of your program:\n",
    "\n",
    "`\n",
    "from robot import *\n",
    "`\n"
   ]
  },
  {
   "cell_type": "markdown",
   "metadata": {},
   "source": [
    "#### 💬 Commands for this exercise\n",
    "\n",
    "To move the robot in the thicket, we propose the following four instructions:\n",
    "\n",
    "`\n",
    "Go up\n",
    "Go down\n",
    "Go left\n",
    "Go right\n",
    "`\n",
    "\n",
    "each asking the robot to move **one space** in a direction on the grid.\n",
    "\n",
    "In Python, you will need to write them as follows:\n",
    "\n",
    "`\n",
    "up()\n",
    "low()\n",
    "left()\n",
    "right()\n",
    "`\n",
    "\n",
    "Note that the robot does not rotate: it moves from box to box on the grid, up, down, left or right."
   ]
  },
  {
   "cell_type": "markdown",
   "metadata": {},
   "source": [
    "To help you, here is an example of a program that sends the robot in a bush in three displacements.\n",
    "\n",
    "`\n",
    "from robot import *\n",
    "`\n",
    "\n",
    "`\n",
    "up()\n",
    "up()\n",
    "left()\n",
    "`"
   ]
  },
  {
   "cell_type": "markdown",
   "metadata": {},
   "source": [
    "# XXXXXXXXXXXXXX"
   ]
  },
  {
   "cell_type": "markdown",
   "metadata": {},
   "source": [
    "# 4 - In the thicket prog"
   ]
  },
  {
   "cell_type": "markdown",
   "metadata": {},
   "source": [
    "# XXXXXXXXXXXXXX"
   ]
  },
  {
   "cell_type": "markdown",
   "metadata": {},
   "source": [
    "#### 📗 Movements: module need\n",
    "\n",
    "If we forget the line that provides the instructions to move the robot, as in the following program:\n",
    "\n",
    "`\n",
    "up()\n",
    "right()\n",
    "low()\n",
    "left()\n",
    "`\n",
    "\n",
    "we get an error:\n",
    "\n",
    "line 1, in<br />\n",
    "&nbsp;&nbsp;&nbsp;&nbsp;up()\n",
    "\n",
    "<span style=\"color:red\">NameError:</span> name 'up' is not defined\n",
    "\n",
    "The reading of the program stops at the first movement instruction; the message indicates that the function name is not recognized.\n",
    "\n",
    "If we get an error of this kind, we will think to verify that we have written the line giving access to the functions of the robot."
   ]
  },
  {
   "cell_type": "markdown",
   "metadata": {},
   "source": [
    "<a name=\"Stack_of_cylinders\"/>\n",
    "\n",
    "## 5 - Stack of cylinders"
   ]
  },
  {
   "cell_type": "markdown",
   "metadata": {},
   "source": [
    "\n",
    "You advance cautiously on a ledge along a cliff; you must access the top of the wall.\n",
    "\n",
    "You finally fall on a recess. At the bottom of this small cave is a magnificent stack of four large stone discs! By moving this stack of records on the ledge, you can climb it and reach the top of the cliff.\n",
    "\n",
    "<img src=\"./source_files/images/cylindres_position_initiale.png\" style=\"margin: 0; vertical-align: left;\">\n",
    "\n",
    "**Current structure of the cave**\n",
    "\n",
    "<img src=\"./source_files/images/cylindres_position_finale.png\" style=\"margin: 0; vertical-align: right;\">\n",
    "\n",
    "**Result sought**\n",
    "\n",
    "Stacking is unfortunately very heavy, even for your robot: it can only carry one disc at a time. Moreover, it seems obvious that a disc will not be able to support a disc bigger than him. For this, you will have to reform the stack at the entrance of the cave, in a very small space.\n",
    "\n",
    "#### 🎯 What your program should do:\n",
    "\n",
    "It can be considered that there are three zones in the cave:\n",
    "\n",
    "* zone 1: the bottom, where are the four cylinders, stacked from widest to narrowest;\n",
    "* zone 2: the center, where you can temporarily place disks one above the other;\n",
    "* zone 3: the entrance to the cave, where you have to reform the complete stack.\n",
    "\n",
    "The goal is to move all the discs from zone 1 to zone 3 according to these two rules:\n",
    "\n",
    "* you can only move one disc at a time, because they are very heavy;\n",
    "* you can never put a disc on a record smaller than it, because otherwise the stack would collapse!"
   ]
  },
  {
   "cell_type": "markdown",
   "metadata": {},
   "source": [
    "#### 💬 Commands for this exercise\n",
    "\n",
    "The robot can execute this instruction:\n",
    "\n",
    "`\n",
    "Move sourceArea ➜ destinationArea\n",
    "`\n",
    "\n",
    "When it receives it, the robot takes the disc located at the top of the zone designated by zoneSource and places it at the top of the zone designated by zoneDestination (on the ground if the zone is empty).\n",
    "\n",
    "To identify a zone, enter the number of the zone in question instead of zoneSource and zoneDestination.\n",
    "\n",
    "In Python, the instruction is written:\n",
    "\n",
    "`\n",
    "move(sourceArea, destinationArea)\n",
    "`\n",
    "\n",
    "Do not forget to include the following line at the top of your program to use it:\n",
    "\n",
    "`\n",
    "from robot import *\n",
    "`\n"
   ]
  },
  {
   "cell_type": "markdown",
   "metadata": {},
   "source": [
    "As an example, here is a program that makes some moves: \n",
    "from zone 1, it moves the first disc in zone 3 and the second in zone 2; then he puts the first in zone 1.\n",
    "\n",
    "`\n",
    "from robot import *\n",
    "`\n",
    "\n",
    "`\n",
    "move(1, 3)\n",
    "move(1, 2)\n",
    "move(3, 1)\n",
    "`\n",
    "\n",
    "On the other hand, the following program is invalid because it builds an unstable stack in zone 2:\n",
    "\n",
    "`\n",
    "from robot import *\n",
    "`\n",
    "\n",
    "`\n",
    "move(1, 2)\n",
    "move(1, 2)\n",
    "`\n"
   ]
  },
  {
   "cell_type": "markdown",
   "metadata": {},
   "source": [
    "# XXXXXXXXXXXXXX"
   ]
  },
  {
   "cell_type": "markdown",
   "metadata": {},
   "source": [
    "# 5 - Stack of cylinders prog"
   ]
  },
  {
   "cell_type": "markdown",
   "metadata": {},
   "source": [
    "# XXXXXXXXXXXXXX"
   ]
  },
  {
   "cell_type": "markdown",
   "metadata": {},
   "source": [
    "#### ⚠️ Warning: \n",
    "\n",
    "**Submit several times**\n",
    "\n",
    "When your program does not work as it should, take the time to figure out what's wrong, then modify your program so that it works next time. There is no point in trying 15 submissions by changing a little trick and hoping that after a while it will work !\n",
    "\n",
    "**Advice**\n",
    "\n",
    "If you are stuck on an exercise, you can ask your classmates or teachers for advice.\n",
    "\n",
    "Again, it's not worth asking for all the advice at once. You have to ask first, try to use the explanations provided, and if we really get stuck, then we can ask the following advice."
   ]
  },
  {
   "cell_type": "markdown",
   "metadata": {},
   "source": [
    "<a name=\"Secret_recipe\"/>\n",
    "\n",
    "## 6 - Secret recipe"
   ]
  },
  {
   "cell_type": "markdown",
   "metadata": {},
   "source": [
    "\n",
    "Here you are at the top of the mountain. You will finally be able to release the village leader! You fall from the clouds when you see him talking quietly with the Great Wizard. Far from being kidnapped by the latter, he joined her to prepare a mixture for the celebration that will take place in a few days.\n",
    "\n",
    "The mixture in question is composed of three ingredients to mix in perfectly exact proportions: 5 volumes of oil, 4 volumes of water, and 3 volumes of a secret ingredient. The chef and the Grand Wizard have two ungraded barrels of 5 liters and 3 liters, with which they can easily dose the oil and the secret ingredient. But they miss the barrel of 4 liters because the chief has forgotten in the village!\n",
    "\n",
    "<br />\n",
    "<img src=\"./source_files/images/chute.jpg\" style=\"margin: 0; vertical-align: left;\"><br />\n",
    "<img src=\"./source_files/images/tonneau5.png\" style=\"margin: 0; vertical-align: middle;\"><br />\n",
    "<img src=\"./source_files/images/tonneau3.png\" style=\"margin: 0; vertical-align: right;\"><br />\n",
    "<br />\n",
    "<br />\n",
    "If you transfer the contents of one barrel into the other, until you have emptied the first one or filled the second, by calculation, you can know exactly how much water is in each of the two barrels. So you think there must be a way to use the barrels available to measure exactly 4 liters of water. You use your robot to find the solution.\n",
    "<br />\n",
    "\n",
    "#### 🎯 What your program should do:\n",
    "\n",
    "You are in front of a source of water that springs from the mountain, and you have two empty barrels of capacities 5 liters and 3 liters. Write a program that performs a series of transfers to obtain exactly 4 liters of water in the largest barrel.\n",
    "\n",
    "**Stop as soon as the big barrel contains exactly 4 liters.**\n",
    "\n",
    "#### 💬 Commands for this exercise\n",
    "\n",
    "To dose the water in the barrels, you have these three instructions:\n",
    "\n",
    "`\n",
    "Fill barrel\n",
    "Empty barrel\n",
    "Transfer barrelSource ➜ barrelDestination\n",
    "`\n",
    "\n",
    "To identify a barrel at the barrel location, barrelSource or barrelDestination, use its capacity: 3 or 5.\n",
    "\n",
    "When transferring one barrel to the other, it stops when the source barrel is empty or when the barrel destination is full to the brim. Thus, after each operation, one can know exactly how many liters of water are in the two barrels.\n",
    "\n",
    "In Python, the three statements are written as follows:\n",
    "\n",
    "`\n",
    "fill(barrel)\n",
    "empty(barrel)\n",
    "transfer(barrelSource, barrelDestination)\n",
    "`\n",
    "\n",
    "As an example, here is a program that experiments with the three instructions described above.\n",
    "\n",
    "`\n",
    "fill(5)\n",
    "transfer(5, 3)\n",
    "empty(5)\n",
    "`"
   ]
  },
  {
   "cell_type": "markdown",
   "metadata": {},
   "source": [
    "# XXXXXXXXXXXXXX"
   ]
  },
  {
   "cell_type": "markdown",
   "metadata": {},
   "source": [
    "# 6 - Secret recipe prog"
   ]
  },
  {
   "cell_type": "markdown",
   "metadata": {},
   "source": [
    "# XXXXXXXXXXXXXX"
   ]
  }
 ],
 "metadata": {
  "kernelspec": {
   "display_name": "Python 3",
   "language": "python",
   "name": "python3"
  },
  "language_info": {
   "codemirror_mode": {
    "name": "ipython",
    "version": 3
   },
   "file_extension": ".py",
   "mimetype": "text/x-python",
   "name": "python",
   "nbconvert_exporter": "python",
   "pygments_lexer": "ipython3",
   "version": "3.6.3"
  }
 },
 "nbformat": 4,
 "nbformat_minor": 2
}
